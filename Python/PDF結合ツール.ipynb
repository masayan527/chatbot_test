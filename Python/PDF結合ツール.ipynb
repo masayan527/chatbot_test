{
 "cells": [
  {
   "cell_type": "code",
   "execution_count": 1,
   "id": "e299d4b9",
   "metadata": {},
   "outputs": [
    {
     "name": "stdout",
     "output_type": "stream",
     "text": [
      "Requirement already satisfied: PyMuPDF in /opt/conda/lib/python3.8/site-packages (1.20.2)\n"
     ]
    }
   ],
   "source": [
    "#PDFライブラリのインポート\n",
    "\n",
    "!pip install PyMuPDF"
   ]
  },
  {
   "cell_type": "code",
   "execution_count": 2,
   "id": "490d7d2a",
   "metadata": {},
   "outputs": [
    {
     "name": "stdout",
     "output_type": "stream",
     "text": [
      "pip 21.1.1 from /opt/conda/lib/python3.8/site-packages/pip (python 3.8)\n"
     ]
    }
   ],
   "source": [
    "#pipの動作環境確認\n",
    "!pip -V\n",
    "\n",
    "#動作確認不要の場合はなくても大丈夫です"
   ]
  },
  {
   "cell_type": "code",
   "execution_count": 3,
   "id": "739c096d",
   "metadata": {},
   "outputs": [],
   "source": [
    "#ライブラリのインポート\n",
    "#PyMuPDFからfitzに変わります\n",
    "import fitz"
   ]
  },
  {
   "cell_type": "code",
   "execution_count": 12,
   "id": "c24f1695",
   "metadata": {},
   "outputs": [],
   "source": [
    "#PDFオブジェクトの設定\n",
    "#ファイルによって書き換える\n",
    "\n",
    "#開きたいPDFファイルを変数名として格納する\n",
    "file = fitz.open(\"開きたいPDF名.pdf\")"
   ]
  },
  {
   "cell_type": "code",
   "execution_count": 5,
   "id": "8c425012",
   "metadata": {},
   "outputs": [],
   "source": [
    "#PDFオブジェクトの設定\n",
    "#ファイルによって書き換える\n",
    "\n",
    "#結合させたいPDFファイルを変数名として格納する\n",
    "file2 = fitz.open(\"結合させたいPDF名.pdf\")"
   ]
  },
  {
   "cell_type": "code",
   "execution_count": 7,
   "id": "3950cf41",
   "metadata": {},
   "outputs": [],
   "source": [
    "#PDFの結合\n",
    "file.insert_pdf(file2)\n",
    "\n",
    "#fileで指定したPDFの末尾に、file2で指定したPDFが結合する形になっています"
   ]
  },
  {
   "cell_type": "code",
   "execution_count": 8,
   "id": "56a2857c",
   "metadata": {},
   "outputs": [],
   "source": [
    "#結合させた後のPDFの保存\n",
    "file.save('保存したいPDFファイル名.pdf')"
   ]
  },
  {
   "cell_type": "code",
   "execution_count": 9,
   "id": "96a51b23",
   "metadata": {},
   "outputs": [],
   "source": [
    "#PDFファイルを閉じる\n",
    "file.close()\n",
    "file2.close()"
   ]
  },
  {
   "cell_type": "markdown",
   "id": "29f8f004",
   "metadata": {},
   "source": [
    "***【以下はおまけです】***"
   ]
  },
  {
   "cell_type": "markdown",
   "id": "249a636c",
   "metadata": {},
   "source": [
    "*適宜シャープを外して使って下さい*"
   ]
  },
  {
   "cell_type": "code",
   "execution_count": 6,
   "id": "0186fb7e",
   "metadata": {},
   "outputs": [],
   "source": [
    "#【おまけ1】特定ページのみ結合させたいとき\n",
    "\n",
    "#file.insert_pdf(    \n",
    "#    file2,  #結合させたいPDFオブジェクト\n",
    "#    from_page = 1,  #結合させたいPDFの該当ページの開始番号\n",
    "#    to_page = 2,  #結合させたいPDFの該当ページの終了番号\n",
    "#    start_at = 2  #もともとのPDFの挿入させたいページ番号\n",
    "#)\n",
    "\n",
    "#引数は0から始まることに注意！"
   ]
  },
  {
   "cell_type": "code",
   "execution_count": 13,
   "id": "74ac4fa8",
   "metadata": {},
   "outputs": [],
   "source": [
    "#【おまけ2】PDFの特定ページを削除したいとき\n",
    "\n",
    "#削除させたいPDF\n",
    "#file.delete_page(3) #数字はページ番号、引数は0から始まる\n",
    "\n",
    "#削除させた後のPDFの保存\n",
    "#file.save('保存したいPDFファイル名2.pdf')"
   ]
  },
  {
   "cell_type": "code",
   "execution_count": null,
   "id": "bdd00507",
   "metadata": {},
   "outputs": [],
   "source": []
  }
 ],
 "metadata": {
  "kernelspec": {
   "display_name": "Python 3",
   "language": "python",
   "name": "python3"
  },
  "language_info": {
   "codemirror_mode": {
    "name": "ipython",
    "version": 3
   },
   "file_extension": ".py",
   "mimetype": "text/x-python",
   "name": "python",
   "nbconvert_exporter": "python",
   "pygments_lexer": "ipython3",
   "version": "3.8.8"
  }
 },
 "nbformat": 4,
 "nbformat_minor": 5
}
