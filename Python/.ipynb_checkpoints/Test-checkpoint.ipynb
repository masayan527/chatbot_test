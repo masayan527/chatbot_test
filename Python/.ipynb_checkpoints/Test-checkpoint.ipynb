{
 "cells": [
  {
   "cell_type": "code",
   "execution_count": 1,
   "id": "b205c7e1",
   "metadata": {},
   "outputs": [
    {
     "data": {
      "text/plain": [
       "4"
      ]
     },
     "execution_count": 1,
     "metadata": {},
     "output_type": "execute_result"
    }
   ],
   "source": [
    "1 + 3"
   ]
  },
  {
   "cell_type": "code",
   "execution_count": 6,
   "id": "bb3767fe",
   "metadata": {},
   "outputs": [
    {
     "data": {
      "text/plain": [
       "2"
      ]
     },
     "execution_count": 6,
     "metadata": {},
     "output_type": "execute_result"
    }
   ],
   "source": [
    "a = 1\n",
    "b = 1\n",
    "a + b"
   ]
  },
  {
   "cell_type": "markdown",
   "id": "b5c01887",
   "metadata": {},
   "source": [
    "# これはテストです  \n",
    "## これはテストです"
   ]
  },
  {
   "cell_type": "markdown",
   "id": "d4465785",
   "metadata": {},
   "source": [
    "### これはテストです<br>\n",
    "#### これはテストです\n",
    "##### これはテストです"
   ]
  },
  {
   "cell_type": "markdown",
   "id": "8c98e7c4",
   "metadata": {},
   "source": [
    "**この文章は太字です**"
   ]
  },
  {
   "cell_type": "markdown",
   "id": "420d272b",
   "metadata": {},
   "source": [
    "~~この文章は取り消します~~"
   ]
  },
  {
   "cell_type": "markdown",
   "id": "465f580c",
   "metadata": {},
   "source": [
    "<font color = \"red\">この文字は赤です</font>"
   ]
  },
  {
   "cell_type": "markdown",
   "id": "da0cb091",
   "metadata": {},
   "source": [
    "**<font color = \"red\">この太文字は赤です</font>**"
   ]
  },
  {
   "cell_type": "markdown",
   "id": "4e3c8ad4",
   "metadata": {},
   "source": [
    "> この文字は引用です"
   ]
  },
  {
   "cell_type": "markdown",
   "id": "4ab4bd6e",
   "metadata": {},
   "source": [
    "| ヘッダ１ | ヘッダ２ | ヘッダ３ |\n",
    "| :--- | :---: | ---: |\n",
    "| 左揃え１ | 中央揃え２ | 右揃え３ |\n",
    "| XXXXXXXXX | XXXXXXXXX | XXXXXXXXX |"
   ]
  },
  {
   "cell_type": "markdown",
   "id": "94c68d3b",
   "metadata": {},
   "source": [
    "Pythonの学習は、 [Python3で学ぶデータ分析・AI・機械学習](https://ai-inter1.com/python-basic/)をご活用ください。"
   ]
  },
  {
   "cell_type": "code",
   "execution_count": 1,
   "id": "d16c3778",
   "metadata": {},
   "outputs": [
    {
     "name": "stdout",
     "output_type": "stream",
     "text": [
      "C:\\Users\\a1048554\\Desktop\\Python\n",
      "<class 'str'>\n"
     ]
    }
   ],
   "source": [
    "import os\n",
    "\n",
    "path = os.getcwd()\n",
    "\n",
    "print(path)\n",
    "# /Users/mbp/Documents/my-project/python-snippets/notebook\n",
    "\n",
    "print(type(path))\n",
    "# <class 'str'>"
   ]
  },
  {
   "cell_type": "markdown",
   "id": "af006b8d",
   "metadata": {},
   "source": [
    "![iconAFC.png](iconAFC.png)"
   ]
  },
  {
   "cell_type": "code",
   "execution_count": null,
   "id": "f3989cee",
   "metadata": {},
   "outputs": [],
   "source": []
  },
  {
   "cell_type": "code",
   "execution_count": null,
   "id": "0c2e5e69",
   "metadata": {},
   "outputs": [],
   "source": []
  },
  {
   "cell_type": "code",
   "execution_count": null,
   "id": "72f5b0d0",
   "metadata": {},
   "outputs": [],
   "source": []
  }
 ],
 "metadata": {
  "kernelspec": {
   "display_name": "Python 3 (ipykernel)",
   "language": "python",
   "name": "python3"
  },
  "language_info": {
   "codemirror_mode": {
    "name": "ipython",
    "version": 3
   },
   "file_extension": ".py",
   "mimetype": "text/x-python",
   "name": "python",
   "nbconvert_exporter": "python",
   "pygments_lexer": "ipython3",
   "version": "3.10.9"
  }
 },
 "nbformat": 4,
 "nbformat_minor": 5
}
