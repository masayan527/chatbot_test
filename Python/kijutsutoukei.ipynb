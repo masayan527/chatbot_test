{
 "cells": [
  {
   "cell_type": "code",
   "execution_count": 3,
   "id": "758ca0e6",
   "metadata": {},
   "outputs": [],
   "source": [
    "import pandas as pd"
   ]
  },
  {
   "cell_type": "code",
   "execution_count": 23,
   "id": "3427dee3",
   "metadata": {},
   "outputs": [
    {
     "data": {
      "text/html": [
       "<div>\n",
       "<style scoped>\n",
       "    .dataframe tbody tr th:only-of-type {\n",
       "        vertical-align: middle;\n",
       "    }\n",
       "\n",
       "    .dataframe tbody tr th {\n",
       "        vertical-align: top;\n",
       "    }\n",
       "\n",
       "    .dataframe thead th {\n",
       "        text-align: right;\n",
       "    }\n",
       "</style>\n",
       "<table border=\"1\" class=\"dataframe\">\n",
       "  <thead>\n",
       "    <tr style=\"text-align: right;\">\n",
       "      <th></th>\n",
       "      <th>sex</th>\n",
       "      <th>age</th>\n",
       "      <th>ages</th>\n",
       "      <th>medicine</th>\n",
       "      <th>losing_weight</th>\n",
       "    </tr>\n",
       "    <tr>\n",
       "      <th>ID</th>\n",
       "      <th></th>\n",
       "      <th></th>\n",
       "      <th></th>\n",
       "      <th></th>\n",
       "      <th></th>\n",
       "    </tr>\n",
       "  </thead>\n",
       "  <tbody>\n",
       "    <tr>\n",
       "      <th>1</th>\n",
       "      <td>male</td>\n",
       "      <td>28</td>\n",
       "      <td>30</td>\n",
       "      <td>A</td>\n",
       "      <td>1</td>\n",
       "    </tr>\n",
       "    <tr>\n",
       "      <th>2</th>\n",
       "      <td>male</td>\n",
       "      <td>31</td>\n",
       "      <td>30</td>\n",
       "      <td>A</td>\n",
       "      <td>1</td>\n",
       "    </tr>\n",
       "    <tr>\n",
       "      <th>3</th>\n",
       "      <td>male</td>\n",
       "      <td>31</td>\n",
       "      <td>30</td>\n",
       "      <td>B</td>\n",
       "      <td>0</td>\n",
       "    </tr>\n",
       "    <tr>\n",
       "      <th>4</th>\n",
       "      <td>male</td>\n",
       "      <td>33</td>\n",
       "      <td>30</td>\n",
       "      <td>A</td>\n",
       "      <td>1</td>\n",
       "    </tr>\n",
       "    <tr>\n",
       "      <th>5</th>\n",
       "      <td>male</td>\n",
       "      <td>34</td>\n",
       "      <td>30</td>\n",
       "      <td>B</td>\n",
       "      <td>1</td>\n",
       "    </tr>\n",
       "  </tbody>\n",
       "</table>\n",
       "</div>"
      ],
      "text/plain": [
       "     sex  age  ages medicine  losing_weight\n",
       "ID                                         \n",
       "1   male   28    30        A              1\n",
       "2   male   31    30        A              1\n",
       "3   male   31    30        B              0\n",
       "4   male   33    30        A              1\n",
       "5   male   34    30        B              1"
      ]
     },
     "execution_count": 23,
     "metadata": {},
     "output_type": "execute_result"
    }
   ],
   "source": [
    "df = pd.read_csv(\"C:/Users/a1048554/Desktop/Python/data1.csv\", index_col=0)\n",
    "df.head()"
   ]
  },
  {
   "cell_type": "code",
   "execution_count": 25,
   "id": "c7c13905",
   "metadata": {},
   "outputs": [
    {
     "data": {
      "text/plain": [
       "3.03"
      ]
     },
     "execution_count": 25,
     "metadata": {},
     "output_type": "execute_result"
    }
   ],
   "source": [
    "# 全体の平均\n",
    "df[\"losing_weight\"].mean()"
   ]
  },
  {
   "cell_type": "code",
   "execution_count": 33,
   "id": "270dd5da",
   "metadata": {},
   "outputs": [
    {
     "data": {
      "text/plain": [
       "2.8461538461538463"
      ]
     },
     "execution_count": 33,
     "metadata": {},
     "output_type": "execute_result"
    }
   ],
   "source": [
    "# Aの平均\n",
    "df[df[\"medicine\"] ==\"A\"][\"losing_weight\"].mean()"
   ]
  },
  {
   "cell_type": "code",
   "execution_count": 32,
   "id": "95c40e91",
   "metadata": {},
   "outputs": [
    {
     "data": {
      "text/plain": [
       "3.2291666666666665"
      ]
     },
     "execution_count": 32,
     "metadata": {},
     "output_type": "execute_result"
    }
   ],
   "source": [
    "# Bの平均\n",
    "df[df[\"medicine\"] ==\"B\"][\"losing_weight\"].mean()"
   ]
  },
  {
   "cell_type": "code",
   "execution_count": 35,
   "id": "46c4bb3e",
   "metadata": {},
   "outputs": [
    {
     "data": {
      "text/plain": [
       "(2.8461538461538463, 3.2291666666666665)"
      ]
     },
     "execution_count": 35,
     "metadata": {},
     "output_type": "execute_result"
    }
   ],
   "source": [
    "# AとBを変数化\n",
    "ave_a = df[df[\"medicine\"] ==\"A\"][\"losing_weight\"].mean()\n",
    "ave_b = df[df[\"medicine\"] ==\"B\"][\"losing_weight\"].mean()\n",
    "ave_a, ave_b"
   ]
  },
  {
   "cell_type": "code",
   "execution_count": 36,
   "id": "f4cc868f",
   "metadata": {},
   "outputs": [
    {
     "data": {
      "text/plain": [
       "(3.5, 4.0)"
      ]
     },
     "execution_count": 36,
     "metadata": {},
     "output_type": "execute_result"
    }
   ],
   "source": [
    "# AとBの中央値\n",
    "med_a = df[df[\"medicine\"] ==\"A\"][\"losing_weight\"].median()\n",
    "med_b = df[df[\"medicine\"] ==\"B\"][\"losing_weight\"].median()\n",
    "med_a, med_b"
   ]
  },
  {
   "cell_type": "code",
   "execution_count": 37,
   "id": "f2af18d9",
   "metadata": {},
   "outputs": [
    {
     "data": {
      "text/plain": [
       "(6, 6)"
      ]
     },
     "execution_count": 37,
     "metadata": {},
     "output_type": "execute_result"
    }
   ],
   "source": [
    "# 最大値\n",
    "max_a = df[df[\"medicine\"] ==\"A\"][\"losing_weight\"].max()\n",
    "max_b = df[df[\"medicine\"] ==\"B\"][\"losing_weight\"].max()\n",
    "max_a, max_b"
   ]
  },
  {
   "cell_type": "code",
   "execution_count": 38,
   "id": "525c325c",
   "metadata": {},
   "outputs": [
    {
     "data": {
      "text/plain": [
       "(-1, -1)"
      ]
     },
     "execution_count": 38,
     "metadata": {},
     "output_type": "execute_result"
    }
   ],
   "source": [
    "# 最小値\n",
    "min_a = df[df[\"medicine\"] ==\"A\"][\"losing_weight\"].min()\n",
    "min_b = df[df[\"medicine\"] ==\"B\"][\"losing_weight\"].min()\n",
    "min_a, min_b"
   ]
  },
  {
   "cell_type": "code",
   "execution_count": 43,
   "id": "a017d48b",
   "metadata": {},
   "outputs": [
    {
     "data": {
      "text/plain": [
       "(31.75, 35.0, 38.0)"
      ]
     },
     "execution_count": 43,
     "metadata": {},
     "output_type": "execute_result"
    }
   ],
   "source": [
    "# 年齢の四分位数\n",
    "q1 = df[\"age\"].quantile(0.25)\n",
    "q2 = df[\"age\"].quantile(0.50)\n",
    "q3 = df[\"age\"].quantile(0.75)\n",
    "q1, q2, q3"
   ]
  },
  {
   "cell_type": "code",
   "execution_count": 45,
   "id": "b56719df",
   "metadata": {},
   "outputs": [
    {
     "data": {
      "text/plain": [
       "(31.75, 35.0, 38.0)"
      ]
     },
     "execution_count": 45,
     "metadata": {},
     "output_type": "execute_result"
    }
   ],
   "source": [
    "# 年齢の四分位数をまとめて抽出\n",
    "q1,q2,q3 = df[\"age\"].quantile([0.25,0.50,0.75])\n",
    "q1,q2,q3"
   ]
  },
  {
   "cell_type": "code",
   "execution_count": 46,
   "id": "fdc1d391",
   "metadata": {},
   "outputs": [
    {
     "data": {
      "text/plain": [
       "(4.250377073906484, 4.861258865248228)"
      ]
     },
     "execution_count": 46,
     "metadata": {},
     "output_type": "execute_result"
    }
   ],
   "source": [
    "# 分散\n",
    "var_a = df[df[\"medicine\"] ==\"A\"][\"losing_weight\"].var()\n",
    "var_b = df[df[\"medicine\"] ==\"B\"][\"losing_weight\"].var()\n",
    "var_a, var_b"
   ]
  },
  {
   "cell_type": "code",
   "execution_count": 47,
   "id": "1c9f62f0",
   "metadata": {},
   "outputs": [
    {
     "data": {
      "text/plain": [
       "(2.061644264635993, 2.204826266454622)"
      ]
     },
     "execution_count": 47,
     "metadata": {},
     "output_type": "execute_result"
    }
   ],
   "source": [
    "# 標準偏差\n",
    "std_a = df[df[\"medicine\"] ==\"A\"][\"losing_weight\"].std()\n",
    "std_b = df[df[\"medicine\"] ==\"B\"][\"losing_weight\"].std()\n",
    "std_a, std_b"
   ]
  },
  {
   "cell_type": "code",
   "execution_count": 50,
   "id": "b9bbe0a2",
   "metadata": {},
   "outputs": [
    {
     "data": {
      "text/html": [
       "<div>\n",
       "<style scoped>\n",
       "    .dataframe tbody tr th:only-of-type {\n",
       "        vertical-align: middle;\n",
       "    }\n",
       "\n",
       "    .dataframe tbody tr th {\n",
       "        vertical-align: top;\n",
       "    }\n",
       "\n",
       "    .dataframe thead th {\n",
       "        text-align: right;\n",
       "    }\n",
       "</style>\n",
       "<table border=\"1\" class=\"dataframe\">\n",
       "  <thead>\n",
       "    <tr style=\"text-align: right;\">\n",
       "      <th></th>\n",
       "      <th>age</th>\n",
       "      <th>losing_weight</th>\n",
       "    </tr>\n",
       "  </thead>\n",
       "  <tbody>\n",
       "    <tr>\n",
       "      <th>age</th>\n",
       "      <td>1.000000</td>\n",
       "      <td>-0.054785</td>\n",
       "    </tr>\n",
       "    <tr>\n",
       "      <th>losing_weight</th>\n",
       "      <td>-0.054785</td>\n",
       "      <td>1.000000</td>\n",
       "    </tr>\n",
       "  </tbody>\n",
       "</table>\n",
       "</div>"
      ],
      "text/plain": [
       "                    age  losing_weight\n",
       "age            1.000000      -0.054785\n",
       "losing_weight -0.054785       1.000000"
      ]
     },
     "execution_count": 50,
     "metadata": {},
     "output_type": "execute_result"
    }
   ],
   "source": [
    "# 年齢との相関\n",
    "df[[\"age\",\"losing_weight\"]].corr()"
   ]
  },
  {
   "cell_type": "code",
   "execution_count": null,
   "id": "3f518230",
   "metadata": {},
   "outputs": [],
   "source": []
  }
 ],
 "metadata": {
  "kernelspec": {
   "display_name": "Python 3 (ipykernel)",
   "language": "python",
   "name": "python3"
  },
  "language_info": {
   "codemirror_mode": {
    "name": "ipython",
    "version": 3
   },
   "file_extension": ".py",
   "mimetype": "text/x-python",
   "name": "python",
   "nbconvert_exporter": "python",
   "pygments_lexer": "ipython3",
   "version": "3.10.9"
  }
 },
 "nbformat": 4,
 "nbformat_minor": 5
}
