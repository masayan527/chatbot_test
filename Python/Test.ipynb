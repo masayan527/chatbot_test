{
 "cells": [
  {
   "cell_type": "code",
   "execution_count": 1,
   "id": "b205c7e1",
   "metadata": {},
   "outputs": [
    {
     "data": {
      "text/plain": [
       "4"
      ]
     },
     "execution_count": 1,
     "metadata": {},
     "output_type": "execute_result"
    }
   ],
   "source": [
    "1 + 3"
   ]
  },
  {
   "cell_type": "code",
   "execution_count": 6,
   "id": "bb3767fe",
   "metadata": {},
   "outputs": [
    {
     "data": {
      "text/plain": [
       "2"
      ]
     },
     "execution_count": 6,
     "metadata": {},
     "output_type": "execute_result"
    }
   ],
   "source": [
    "a = 1\n",
    "b = 1\n",
    "a + b"
   ]
  },
  {
   "cell_type": "markdown",
   "id": "b5c01887",
   "metadata": {},
   "source": [
    "# これはテストです  \n",
    "## これはテストです"
   ]
  },
  {
   "cell_type": "markdown",
   "id": "d4465785",
   "metadata": {},
   "source": [
    "### これはテストです<br>\n",
    "#### これはテストです\n",
    "##### これはテストです"
   ]
  },
  {
   "cell_type": "markdown",
   "id": "8c98e7c4",
   "metadata": {},
   "source": [
    "**この文章は太字です**"
   ]
  },
  {
   "cell_type": "markdown",
   "id": "420d272b",
   "metadata": {},
   "source": [
    "~~この文章は取り消します~~"
   ]
  },
  {
   "cell_type": "markdown",
   "id": "465f580c",
   "metadata": {},
   "source": [
    "<font color = \"red\">この文字は赤です</font>"
   ]
  },
  {
   "cell_type": "markdown",
   "id": "da0cb091",
   "metadata": {},
   "source": [
    "**<font color = \"red\">この太文字は赤です</font>**"
   ]
  },
  {
   "cell_type": "markdown",
   "id": "4e3c8ad4",
   "metadata": {},
   "source": [
    "> この文字は引用です"
   ]
  },
  {
   "cell_type": "markdown",
   "id": "4ab4bd6e",
   "metadata": {},
   "source": [
    "| ヘッダ１ | ヘッダ２ | ヘッダ３ |\n",
    "| :--- | :---: | ---: |\n",
    "| 左揃え１ | 中央揃え２ | 右揃え３ |\n",
    "| XXXXXXXXX | XXXXXXXXX | XXXXXXXXX |"
   ]
  },
  {
   "cell_type": "markdown",
   "id": "94c68d3b",
   "metadata": {},
   "source": [
    "Pythonの学習は、 [Python3で学ぶデータ分析・AI・機械学習](https://ai-inter1.com/python-basic/)をご活用ください。"
   ]
  },
  {
   "cell_type": "code",
   "execution_count": 1,
   "id": "d16c3778",
   "metadata": {},
   "outputs": [
    {
     "name": "stdout",
     "output_type": "stream",
     "text": [
      "C:\\Users\\a1048554\\Desktop\\Python\n",
      "<class 'str'>\n"
     ]
    }
   ],
   "source": [
    "import os\n",
    "\n",
    "path = os.getcwd()\n",
    "\n",
    "print(path)\n",
    "# /Users/mbp/Documents/my-project/python-snippets/notebook\n",
    "\n",
    "print(type(path))\n",
    "# <class 'str'>"
   ]
  },
  {
   "cell_type": "markdown",
   "id": "970a6ef5",
   "metadata": {},
   "source": [
    "![iconAFC.png](iconAFC.png)"
   ]
  },
  {
   "cell_type": "code",
   "execution_count": 3,
   "id": "744f7970",
   "metadata": {},
   "outputs": [
    {
     "name": "stdout",
     "output_type": "stream",
     "text": [
      "Note: you may need to restart the kernel to use updated packages.\n"
     ]
    },
    {
     "name": "stderr",
     "output_type": "stream",
     "text": [
      "  WARNING: Retrying (Retry(total=4, connect=None, read=None, redirect=None, status=None)) after connection broken by 'SSLError(SSLCertVerificationError(1, '[SSL: CERTIFICATE_VERIFY_FAILED] certificate verify failed: self signed certificate in certificate chain (_ssl.c:997)'))': /packages/75/75/d2a7480ee7e6e2b2f24c617e487003d3924d90ea25e774272f274812b7ff/jupyterlab_language_pack_ja_jp-3.6.post1-py2.py3-none-any.whl\n",
      "  WARNING: Retrying (Retry(total=3, connect=None, read=None, redirect=None, status=None)) after connection broken by 'SSLError(SSLCertVerificationError(1, '[SSL: CERTIFICATE_VERIFY_FAILED] certificate verify failed: self signed certificate in certificate chain (_ssl.c:997)'))': /packages/75/75/d2a7480ee7e6e2b2f24c617e487003d3924d90ea25e774272f274812b7ff/jupyterlab_language_pack_ja_jp-3.6.post1-py2.py3-none-any.whl\n",
      "  WARNING: Retrying (Retry(total=2, connect=None, read=None, redirect=None, status=None)) after connection broken by 'SSLError(SSLCertVerificationError(1, '[SSL: CERTIFICATE_VERIFY_FAILED] certificate verify failed: self signed certificate in certificate chain (_ssl.c:997)'))': /packages/75/75/d2a7480ee7e6e2b2f24c617e487003d3924d90ea25e774272f274812b7ff/jupyterlab_language_pack_ja_jp-3.6.post1-py2.py3-none-any.whl\n",
      "  WARNING: Retrying (Retry(total=1, connect=None, read=None, redirect=None, status=None)) after connection broken by 'SSLError(SSLCertVerificationError(1, '[SSL: CERTIFICATE_VERIFY_FAILED] certificate verify failed: self signed certificate in certificate chain (_ssl.c:997)'))': /packages/75/75/d2a7480ee7e6e2b2f24c617e487003d3924d90ea25e774272f274812b7ff/jupyterlab_language_pack_ja_jp-3.6.post1-py2.py3-none-any.whl\n",
      "  WARNING: Retrying (Retry(total=0, connect=None, read=None, redirect=None, status=None)) after connection broken by 'SSLError(SSLCertVerificationError(1, '[SSL: CERTIFICATE_VERIFY_FAILED] certificate verify failed: self signed certificate in certificate chain (_ssl.c:997)'))': /packages/75/75/d2a7480ee7e6e2b2f24c617e487003d3924d90ea25e774272f274812b7ff/jupyterlab_language_pack_ja_jp-3.6.post1-py2.py3-none-any.whl\n",
      "ERROR: Could not install packages due to an OSError: HTTPSConnectionPool(host='files.pythonhosted.org', port=443): Max retries exceeded with url: /packages/75/75/d2a7480ee7e6e2b2f24c617e487003d3924d90ea25e774272f274812b7ff/jupyterlab_language_pack_ja_jp-3.6.post1-py2.py3-none-any.whl (Caused by SSLError(SSLCertVerificationError(1, '[SSL: CERTIFICATE_VERIFY_FAILED] certificate verify failed: self signed certificate in certificate chain (_ssl.c:997)')))\n",
      "\n"
     ]
    },
    {
     "name": "stdout",
     "output_type": "stream",
     "text": [
      "Collecting jupyterlab-language-pack-ja-JP\n"
     ]
    }
   ],
   "source": [
    "pip install jupyterlab-language-pack-ja-JP"
   ]
  },
  {
   "cell_type": "code",
   "execution_count": null,
   "id": "b1180ab3",
   "metadata": {},
   "outputs": [],
   "source": []
  },
  {
   "cell_type": "code",
   "execution_count": null,
   "id": "fcae3487",
   "metadata": {},
   "outputs": [],
   "source": []
  }
 ],
 "metadata": {
  "kernelspec": {
   "display_name": "Python 3 (ipykernel)",
   "language": "python",
   "name": "python3"
  },
  "language_info": {
   "codemirror_mode": {
    "name": "ipython",
    "version": 3
   },
   "file_extension": ".py",
   "mimetype": "text/x-python",
   "name": "python",
   "nbconvert_exporter": "python",
   "pygments_lexer": "ipython3",
   "version": "3.10.9"
  }
 },
 "nbformat": 4,
 "nbformat_minor": 5
}
